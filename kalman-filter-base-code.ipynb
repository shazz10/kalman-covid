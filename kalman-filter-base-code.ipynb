{
 "cells": [
  {
   "cell_type": "code",
   "execution_count": 1,
   "metadata": {},
   "outputs": [],
   "source": [
    "from numpy import dot\n",
    "\n",
    "def kf_predict(X, P, A, Q, B, U):\n",
    "    X = dot(A, X) + dot(B, U)\n",
    "    P = dot(A, dot(P, A.T)) + Q\n",
    "    return(X,P)"
   ]
  },
  {
   "cell_type": "code",
   "execution_count": 2,
   "metadata": {},
   "outputs": [],
   "source": [
    "from numpy import dot, sum, tile, linalg\n",
    "from numpy.linalg import inv ,det\n",
    "\n",
    "def kf_update(X, P, Y, H, R):\n",
    "    IM = dot(H, X)\n",
    "    IS = R + dot(H, dot(P, H.T))\n",
    "    K = dot(P, dot(H.T, inv(IS)))\n",
    "    X = X + dot(K, (Y-IM))\n",
    "    P = P - dot(K, dot(IS, K.T))\n",
    "    LH = gauss_pdf(Y, IM, IS)\n",
    "    return (X,P,K,IM,IS,LH)\n",
    "\n",
    "def gauss_pdf(X, M, S):\n",
    "    if M.shape[1] == 1:\n",
    "        DX = X - tile(M, X.shape[1])\n",
    "        E = 0.5 * sum(DX * (dot(inv(S), DX)), axis=0)\n",
    "        E = E + 0.5 * M.shape[0] * log(2 * pi) + 0.5 * log(det(S))\n",
    "        P = exp(-E)\n",
    "    elif X.shape[1] == 1:\n",
    "        DX = tile(X, M.shape[1])- M\n",
    "        E = 0.5 * sum(DX * (dot(inv(S), DX)), axis=0)\n",
    "        E = E + 0.5 * M.shape[0] * log(2 * pi) + 0.5 * log(det(S))\n",
    "        P = exp(-E)\n",
    "    else:\n",
    "        DX = X-M\n",
    "        E = 0.5 * dot(DX.T, dot(inv(S), DX))\n",
    "        E = E + 0.5 * M.shape[0] * log(2 * pi) + 0.5 * log(det(S))\n",
    "        P = exp(-E)\n",
    "    return (P[0],E[0]) "
   ]
  },
  {
   "cell_type": "code",
   "execution_count": 14,
   "metadata": {},
   "outputs": [],
   "source": [
    "from numpy import *\n",
    "from numpy.linalg import inv\n",
    "from numpy.random import randn\n",
    "import matplotlib.pyplot as plt\n",
    "x=[]\n",
    "y=[]\n",
    "#time step of mobile movement\n",
    "dt = 0.1\n",
    "\n",
    "# Initialization of state matrices\n",
    "X = array([[0.0], [0.0], [0.1], [0.1]])\n",
    "P = diag((0.01, 0.01, 0.01, 0.01))\n",
    "A = array([[1, 0, dt , 0], [0, 1, 0, dt], [0, 0, 1, 0], [0, 0, 0,1]])\n",
    "Q = eye(X.shape[0])\n",
    "B = eye(X.shape[0])\n",
    "U = zeros((X.shape[0],1)) \n",
    "\n",
    "# Measurement matrices\n",
    "Y = array([[X[0,0] + abs(randn(1)[0])], [X[1,0] + abs(randn(1)[0])]])\n",
    "H = array([[1, 0, 0, 0], [0, 1, 0, 0]])\n",
    "R = eye(Y.shape[0])\n",
    "\n",
    "# Number of iterations in Kalman Filter\n",
    "N_iter = 50\n",
    "\n",
    "# Applying the Kalman Filter\n",
    "for i in arange(0, N_iter):\n",
    "    (X, P) = kf_predict(X, P, A, Q, B, U)\n",
    "    x.append(i)\n",
    "    y.append((X[0,0],Y[0,0]))\n",
    "    (X, P, K, IM, IS, LH) = kf_update(X, P, Y, H, R)\n",
    "    Y = array([[X[0,0] + abs(0.1 * randn(1)[0])],[X[1, 0] +abs(0.1 * randn(1)[0])]]) \n",
    "    "
   ]
  },
  {
   "cell_type": "code",
   "execution_count": 5,
   "metadata": {},
   "outputs": [
    {
     "data": {
      "text/plain": [
       "array([[4.22927172],\n",
       "       [4.07384625]])"
      ]
     },
     "execution_count": 5,
     "metadata": {},
     "output_type": "execute_result"
    }
   ],
   "source": [
    "Y"
   ]
  },
  {
   "cell_type": "code",
   "execution_count": 6,
   "metadata": {},
   "outputs": [
    {
     "data": {
      "text/plain": [
       "array([[4.13334832],\n",
       "       [4.00012818],\n",
       "       [0.81266369],\n",
       "       [0.67509236]])"
      ]
     },
     "execution_count": 6,
     "metadata": {},
     "output_type": "execute_result"
    }
   ],
   "source": [
    "X"
   ]
  },
  {
   "cell_type": "code",
   "execution_count": 7,
   "metadata": {},
   "outputs": [
    {
     "data": {
      "text/plain": [
       "(4, 1)"
      ]
     },
     "execution_count": 7,
     "metadata": {},
     "output_type": "execute_result"
    }
   ],
   "source": [
    "X.shape"
   ]
  },
  {
   "cell_type": "code",
   "execution_count": 8,
   "metadata": {},
   "outputs": [
    {
     "data": {
      "text/plain": [
       "array([[1., 0., 0., 0.],\n",
       "       [0., 1., 0., 0.],\n",
       "       [0., 0., 1., 0.],\n",
       "       [0., 0., 0., 1.]])"
      ]
     },
     "execution_count": 8,
     "metadata": {},
     "output_type": "execute_result"
    }
   ],
   "source": [
    "eye(X.shape[0])\n"
   ]
  },
  {
   "cell_type": "code",
   "execution_count": 9,
   "metadata": {},
   "outputs": [
    {
     "data": {
      "text/plain": [
       "array([[0.],\n",
       "       [0.],\n",
       "       [0.],\n",
       "       [0.]])"
      ]
     },
     "execution_count": 9,
     "metadata": {},
     "output_type": "execute_result"
    }
   ],
   "source": [
    "zeros((X.shape[0],1))\n",
    "\n"
   ]
  },
  {
   "cell_type": "code",
   "execution_count": 11,
   "metadata": {},
   "outputs": [
    {
     "data": {
      "text/plain": [
       "array([[4.21297184],\n",
       "       [4.11725332]])"
      ]
     },
     "execution_count": 11,
     "metadata": {},
     "output_type": "execute_result"
    }
   ],
   "source": [
    "array([[X[0,0] + abs(0.1 * randn(1)[0])],[X[1, 0] +abs(0.1 * randn(1)[0])]]) \n"
   ]
  },
  {
   "cell_type": "code",
   "execution_count": 15,
   "metadata": {},
   "outputs": [
    {
     "data": {
      "text/plain": [
       "[<matplotlib.lines.Line2D at 0x7f075046c7b8>,\n",
       " <matplotlib.lines.Line2D at 0x7f075046c8d0>]"
      ]
     },
     "execution_count": 15,
     "metadata": {},
     "output_type": "execute_result"
    },
    {
     "data": {
      "image/png": "[encoded data removed]",
      "text/plain": [
       "<Figure size 432x288 with 1 Axes>"
      ]
     },
     "metadata": {
      "needs_background": "light"
     },
     "output_type": "display_data"
    }
   ],
   "source": [
    "plt.plot(x,y)"
   ]
  },
  {
   "cell_type": "code",
   "execution_count": 4,
   "metadata": {},
   "outputs": [],
   "source": [
    "import pandas as pd"
   ]
  },
  {
   "cell_type": "code",
   "execution_count": 31,
   "metadata": {},
   "outputs": [],
   "source": [
    "df = pd.read_csv(\"ts_r_global.csv\")"
   ]
  },
  {
   "cell_type": "code",
   "execution_count": 32,
   "metadata": {},
   "outputs": [
    {
     "data": {
      "text/html": [
       "<div>\n",
       "<style scoped>\n",
       "    .dataframe tbody tr th:only-of-type {\n",
       "        vertical-align: middle;\n",
       "    }\n",
       "\n",
       "    .dataframe tbody tr th {\n",
       "        vertical-align: top;\n",
       "    }\n",
       "\n",
       "    .dataframe thead th {\n",
       "        text-align: right;\n",
       "    }\n",
       "</style>\n",
       "<table border=\"1\" class=\"dataframe\">\n",
       "  <thead>\n",
       "    <tr style=\"text-align: right;\">\n",
       "      <th></th>\n",
       "      <th>Unnamed: 0</th>\n",
       "      <th>date</th>\n",
       "      <th>India_nan</th>\n",
       "    </tr>\n",
       "  </thead>\n",
       "  <tbody>\n",
       "    <tr>\n",
       "      <th>48</th>\n",
       "      <td>87</td>\n",
       "      <td>2020-04-18</td>\n",
       "      <td>15722</td>\n",
       "    </tr>\n",
       "    <tr>\n",
       "      <th>49</th>\n",
       "      <td>88</td>\n",
       "      <td>2020-04-19</td>\n",
       "      <td>17615</td>\n",
       "    </tr>\n",
       "    <tr>\n",
       "      <th>50</th>\n",
       "      <td>89</td>\n",
       "      <td>2020-04-20</td>\n",
       "      <td>18539</td>\n",
       "    </tr>\n",
       "    <tr>\n",
       "      <th>51</th>\n",
       "      <td>90</td>\n",
       "      <td>2020-04-21</td>\n",
       "      <td>20080</td>\n",
       "    </tr>\n",
       "    <tr>\n",
       "      <th>52</th>\n",
       "      <td>91</td>\n",
       "      <td>2020-04-22</td>\n",
       "      <td>21370</td>\n",
       "    </tr>\n",
       "  </tbody>\n",
       "</table>\n",
       "</div>"
      ],
      "text/plain": [
       "    Unnamed: 0        date  India_nan\n",
       "48          87  2020-04-18      15722\n",
       "49          88  2020-04-19      17615\n",
       "50          89  2020-04-20      18539\n",
       "51          90  2020-04-21      20080\n",
       "52          91  2020-04-22      21370"
      ]
     },
     "execution_count": 32,
     "metadata": {},
     "output_type": "execute_result"
    }
   ],
   "source": [
    "df.tail()"
   ]
  },
  {
   "cell_type": "code",
   "execution_count": 37,
   "metadata": {},
   "outputs": [],
   "source": [
    "from numpy import *\n",
    "from numpy.linalg import inv\n",
    "from numpy.random import randn\n",
    "import matplotlib.pyplot as plt\n",
    "x=[]\n",
    "y=[]\n",
    "#time step of mobile movement\n",
    "dt = 1\n",
    "\n",
    "# Initialization of state matrices\n",
    "X = array([[0.0], [0.0], [0.1], [0.1]])\n",
    "P = diag((0.1, 0.1, 0.1, 0.1))\n",
    "A = array([[1, 0, dt , 0], [0, 1, 0, dt], [0, 0, 1, 0], [0, 0, 0,1]])\n",
    "Q = eye(X.shape[0])\n",
    "B = eye(X.shape[0])\n",
    "U = zeros((X.shape[0],1)) \n",
    "\n",
    "# Measurement matrices\n",
    "Y = array([[df.iloc[0][\"India_nan\"]], [df.iloc[0][\"India_nan\"]]])\n",
    "H = array([[1, 0, 0, 0], [0, 1, 0, 0]])\n",
    "R = eye(Y.shape[0])\n",
    "\n",
    "# Number of iterations in Kalman Filter\n",
    "N_iter = 50\n",
    "\n",
    "# Applying the Kalman Filter\n",
    "for i in range(df.shape[0]-1):\n",
    "    (X, P) = kf_predict(X, P, A, Q, B, U)\n",
    "    x.append(i)\n",
    "    y.append((X[0,0],Y[0,0]))\n",
    "    (X, P, K, IM, IS, LH) = kf_update(X, P, Y, H, R)\n",
    "    Y =  array([[df.iloc[i+1][\"India_nan\"]], [df.iloc[i+1][\"India_nan\"]]])\n",
    "    "
   ]
  },
  {
   "cell_type": "code",
   "execution_count": 35,
   "metadata": {},
   "outputs": [],
   "source": [
    "for i in range(df.shape[0]-8,df.shape[0]-1):\n",
    "    (X, P) = kf_predict(X, P, A, Q, B, U)\n",
    "    x.append(x[-1]+1)\n",
    "    y.append((X[0,0],df.iloc[i+1][\"India_nan\"]))\n",
    "    (X, P, K, IM, IS, LH) = kf_update(X, P, Y, H, R)\n",
    "    Y =  array([[X[0,0]], [X[0,0]]])"
   ]
  },
  {
   "cell_type": "code",
   "execution_count": 38,
   "metadata": {},
   "outputs": [
    {
     "data": {
      "text/plain": [
       "[<matplotlib.lines.Line2D at 0x7fadef8bc518>,\n",
       " <matplotlib.lines.Line2D at 0x7fadef8bc630>]"
      ]
     },
     "execution_count": 38,
     "metadata": {},
     "output_type": "execute_result"
    },
    {
     "data": {
      "image/png": "[encoded data removed]",
      "text/plain": [
       "<Figure size 432x288 with 1 Axes>"
      ]
     },
     "metadata": {
      "needs_background": "light"
     },
     "output_type": "display_data"
    }
   ],
   "source": [
    "plt.plot(x,y)"
   ]
  },
  {
   "cell_type": "code",
   "execution_count": 49,
   "metadata": {},
   "outputs": [
    {
     "data": {
      "text/plain": [
       "array([[21370],\n",
       "       [21370]])"
      ]
     },
     "execution_count": 49,
     "metadata": {},
     "output_type": "execute_result"
    }
   ],
   "source": [
    "Y"
   ]
  },
  {
   "cell_type": "code",
   "execution_count": 23,
   "metadata": {},
   "outputs": [],
   "source": [
    "(X, P) = kf_predict(X, P, A, Q, B, U)"
   ]
  },
  {
   "cell_type": "code",
   "execution_count": 24,
   "metadata": {},
   "outputs": [
    {
     "data": {
      "text/plain": [
       "array([[3977.59974367],\n",
       "       [3977.59974367],\n",
       "       [ 266.2010968 ],\n",
       "       [ 266.2010968 ]])"
      ]
     },
     "execution_count": 24,
     "metadata": {},
     "output_type": "execute_result"
    }
   ],
   "source": [
    "X"
   ]
  },
  {
   "cell_type": "code",
   "execution_count": null,
   "metadata": {},
   "outputs": [],
   "source": []
  },
  {
   "cell_type": "code",
   "execution_count": 40,
   "metadata": {},
   "outputs": [
    {
     "data": {
      "text/plain": [
       "[(0.1, 3),\n",
       " (1.9136363636363636, 5),\n",
       " (5.348355663824604, 5),\n",
       " (6.103374012921751, 28),\n",
       " (34.27170431922444, 30),\n",
       " (39.19226015757763, 31),\n",
       " (37.43224363386098, 34),\n",
       " (38.135269543679385, 39),\n",
       " (42.734697625981546, 43),\n",
       " (46.953469212564414, 56),\n",
       " (62.20744196020487, 62),\n",
       " (69.7685137305066, 73),\n",
       " (81.51980993119884, 82),\n",
       " (91.21264301821842, 102),\n",
       " (113.929538224863, 113),\n",
       " (126.62460336664023, 119),\n",
       " (130.59914203745677, 142),\n",
       " (155.02178981847285, 156),\n",
       " (171.29150724193215, 194),\n",
       " (215.00503550646016, 244),\n",
       " (276.1233433927927, 330),\n",
       " (380.4309714055875, 396),\n",
       " (459.82702630923586, 499),\n",
       " (575.1561231677556, 536),\n",
       " (609.5836206762968, 657),\n",
       " (735.174039965935, 727),\n",
       " (811.6275537997777, 887),\n",
       " (988.5568336813409, 987),\n",
       " (1101.6049486382044, 1024),\n",
       " (1119.3975069557441, 1251),\n",
       " (1364.6735523262737, 1397),\n",
       " (1542.0043617838762, 1998),\n",
       " (2259.9939277903163, 2543),\n",
       " (2955.2645330004484, 2567),\n",
       " (2934.974157214454, 3082),\n",
       " (3416.667283481672, 3588),\n",
       " (3990.653457855943, 4778),\n",
       " (5403.233535435595, 5311),\n",
       " (6054.003725132263, 5916),\n",
       " (6608.908899494564, 6725),\n",
       " (7421.641010009123, 7598),\n",
       " (8358.34210222687, 8446),\n",
       " (9259.14337934145, 9205),\n",
       " (10020.55281574395, 10453),\n",
       " (11364.393324559494, 11487),\n",
       " (12505.342647219786, 12322),\n",
       " (13317.46290436812, 13430),\n",
       " (14420.250798969995, 14352),\n",
       " (15345.65134699829, 15722),\n",
       " (16795.294517976454, 17615),\n",
       " (18955.292199044878, 18539),\n",
       " (19923.77999152404, 20080)]"
      ]
     },
     "execution_count": 40,
     "metadata": {},
     "output_type": "execute_result"
    }
   ],
   "source": [
    "y"
   ]
  },
  {
   "cell_type": "code",
   "execution_count": null,
   "metadata": {},
   "outputs": [],
   "source": []
  }
 ],
 "metadata": {
  "kernelspec": {
   "display_name": "Python 3",
   "language": "python",
   "name": "python3"
  },
  "language_info": {
   "codemirror_mode": {
    "name": "ipython",
    "version": 3
   },
   "file_extension": ".py",
   "mimetype": "text/x-python",
   "name": "python",
   "nbconvert_exporter": "python",
   "pygments_lexer": "ipython3",
   "version": "3.6.9"
  }
 },
 "nbformat": 4,
 "nbformat_minor": 2
}
